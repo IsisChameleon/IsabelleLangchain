{
 "cells": [
  {
   "cell_type": "code",
   "execution_count": null,
   "metadata": {},
   "outputs": [],
   "source": [
    "# https://www.addressy.au/\n",
    "# https://www.microburbs.com.au/\n",
    "# https://geotribes.com/segments\n",
    "# https://github.com/codesydney/addressy\n",
    "# gnaf\n",
    "# loqate."
   ]
  }
 ],
 "metadata": {
  "language_info": {
   "name": "python"
  },
  "orig_nbformat": 4
 },
 "nbformat": 4,
 "nbformat_minor": 2
}
