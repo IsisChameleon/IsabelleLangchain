{
 "cells": [
  {
   "cell_type": "code",
   "execution_count": 2,
   "metadata": {},
   "outputs": [
    {
     "data": {
      "text/plain": [
       "True"
      ]
     },
     "execution_count": 2,
     "metadata": {},
     "output_type": "execute_result"
    }
   ],
   "source": [
    "from dotenv import load_dotenv\n",
    "\n",
    "# Load environment variables from .env file\n",
    "load_dotenv(override=True)"
   ]
  },
  {
   "cell_type": "code",
   "execution_count": 3,
   "metadata": {},
   "outputs": [],
   "source": [
    "model_name = 'gpt-3.5-turbo-16k'"
   ]
  },
  {
   "cell_type": "code",
   "execution_count": 4,
   "metadata": {},
   "outputs": [],
   "source": [
    "import tiktoken\n",
    "\n",
    "def concatenate_page_contents(input_documents, separator):\n",
    "    page_contents = [doc.dict()['page_content'] for doc in input_documents]\n",
    "    return separator.join(page_contents)\n",
    "\n",
    "def num_tokens_from_string(string: str, model_name: str = model_name) -> int:\n",
    "    encoding = tiktoken.encoding_for_model(model_name)\n",
    "    num_tokens = len(encoding.encode(string))\n",
    "    return num_tokens"
   ]
  },
  {
   "cell_type": "code",
   "execution_count": 5,
   "metadata": {},
   "outputs": [],
   "source": [
    "filename = '../../data/ndis2/PB NDIS Pricing Arrangements and Price Limits 2023-24 .pdf'\n",
    "directory = '../../data/ndis2'"
   ]
  },
  {
   "cell_type": "code",
   "execution_count": 6,
   "metadata": {},
   "outputs": [],
   "source": [
    "import os\n",
    "from langchain.document_loaders import CSVLoader\n",
    "from langchain.document_loaders.pdf import PDFPlumberLoader\n",
    "#https://api.python.langchain.com/en/latest/document_loaders/langchain.document_loaders.pdf.PDFPlumberLoader.html#langchain.document_loaders.pdf.PDFPlumberLoader.load\n",
    "\n",
    "\n",
    "class MyDirectoryLoader:\n",
    "\n",
    "    def __init__(self, dir_path):\n",
    "        self.dir_path = dir_path\n",
    "        \n",
    "    def check_args(self):\n",
    "        print(**self.pdf_args.keys())\n",
    "\n",
    "    def load(self):\n",
    "        docs = []\n",
    "        for root, _, files in os.walk(self.dir_path):\n",
    "            for file in files:\n",
    "                print('file:', file)\n",
    "                file_path = os.path.join(root, file)\n",
    "                if file_path.endswith('.csv'):\n",
    "                    loader = CSVLoader(file_path)\n",
    "                elif file_path.endswith('.pdf'):\n",
    "                    loader = PDFPlumberLoader(file_path)\n",
    "                else:\n",
    "                    print(f\"Do not process the file: {file_path}\")\n",
    "                    continue\n",
    "                loaded_docs = loader.load()\n",
    "                docs.extend(loaded_docs)\n",
    "        return docs"
   ]
  },
  {
   "cell_type": "code",
   "execution_count": 7,
   "metadata": {},
   "outputs": [
    {
     "name": "stdout",
     "output_type": "stream",
     "text": [
      "file: PB NDIS Pricing Arrangements and Price Limits 2023-24 .pdf\n"
     ]
    }
   ],
   "source": [
    "loader = MyDirectoryLoader(directory)\n",
    "docs = loader.load()"
   ]
  },
  {
   "cell_type": "code",
   "execution_count": 8,
   "metadata": {},
   "outputs": [
    {
     "name": "stdout",
     "output_type": "stream",
     "text": [
      "Number of documents: 101\n",
      "Average document length in characters:2774.0\n",
      "Average document length in tokens:652.3\n"
     ]
    }
   ],
   "source": [
    "import numpy as np\n",
    "\n",
    "print('Number of documents:', len(docs))\n",
    "\n",
    "print(f'Average document length in characters:{np.average([len(t.page_content) for t in docs]):.1f}')\n",
    "print(f'Average document length in tokens:{np.average([num_tokens_from_string(t.page_content) for t in docs]):.1f}')"
   ]
  },
  {
   "cell_type": "markdown",
   "metadata": {},
   "source": [
    "## text splitter"
   ]
  },
  {
   "cell_type": "code",
   "execution_count": 9,
   "metadata": {},
   "outputs": [],
   "source": [
    "\n",
    "from langchain.text_splitter import RecursiveCharacterTextSplitter\n",
    "\n",
    "splitter = RecursiveCharacterTextSplitter(chunk_size=1024, chunk_overlap=128)\n",
    "texts = splitter.split_documents(docs)\n"
   ]
  },
  {
   "cell_type": "code",
   "execution_count": 10,
   "metadata": {},
   "outputs": [
    {
     "name": "stdout",
     "output_type": "stream",
     "text": [
      "Number of chunks: 354\n",
      "Average chunk length in characters:858.8\n",
      "Average chunk length in tokens:201.9\n"
     ]
    }
   ],
   "source": [
    "\n",
    "print('Number of chunks:', len(texts))\n",
    "\n",
    "print(f'Average chunk length in characters:{np.average([len(t.page_content) for t in texts]):.1f}')\n",
    "print(f'Average chunk length in tokens:{np.average([num_tokens_from_string(t.page_content) for t in texts]):.1f}')"
   ]
  },
  {
   "cell_type": "code",
   "execution_count": 11,
   "metadata": {},
   "outputs": [],
   "source": [
    "# choose collection\n",
    "\n",
    "collection_name = 'NDIS_PDFPLUMBER_1_TEXTS_1024_128'"
   ]
  },
  {
   "cell_type": "code",
   "execution_count": 12,
   "metadata": {},
   "outputs": [],
   "source": [
    "from chromadb.config import Settings\n",
    "from langchain.embeddings import OpenAIEmbeddings\n",
    "from langchain.vectorstores import Chroma\n",
    "\n",
    "client_settings = Settings(\n",
    "        chroma_api_impl=\"rest\",\n",
    "        chroma_server_host=\"host.docker.internal\",  # when you run this inside a devcontainer you need to explicitely say host.docker.internal to signify \"devcontainer host localhost\"\n",
    "        chroma_server_http_port=\"8000\"\n",
    "    )\n",
    "\n",
    "db = Chroma.from_documents(texts, client_settings=client_settings, embedding = OpenAIEmbeddings(), collection_name=collection_name)\n"
   ]
  }
 ],
 "metadata": {
  "kernelspec": {
   "display_name": ".venv",
   "language": "python",
   "name": "python3"
  },
  "language_info": {
   "codemirror_mode": {
    "name": "ipython",
    "version": 3
   },
   "file_extension": ".py",
   "mimetype": "text/x-python",
   "name": "python",
   "nbconvert_exporter": "python",
   "pygments_lexer": "ipython3",
   "version": "3.10.12"
  },
  "orig_nbformat": 4
 },
 "nbformat": 4,
 "nbformat_minor": 2
}
