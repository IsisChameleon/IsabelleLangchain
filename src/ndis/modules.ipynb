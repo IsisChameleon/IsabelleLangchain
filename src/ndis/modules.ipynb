{
 "cells": [
  {
   "cell_type": "markdown",
   "metadata": {},
   "source": []
  },
  {
   "cell_type": "code",
   "execution_count": 5,
   "metadata": {},
   "outputs": [
    {
     "data": {
      "text/plain": [
       "True"
      ]
     },
     "execution_count": 5,
     "metadata": {},
     "output_type": "execute_result"
    }
   ],
   "source": [
    "from dotenv import load_dotenv\n",
    "load_dotenv(override=True)"
   ]
  },
  {
   "cell_type": "code",
   "execution_count": 7,
   "metadata": {},
   "outputs": [
    {
     "name": "stdout",
     "output_type": "stream",
     "text": [
      "Chroma collection name: NDIS_ALL_PDFPLUMBER_TEXTS_1024_128\n",
      "Chatbot initialized with gpt-4, temperature 0.2 and retriever tags=None metadata=None vectorstore=<langchain.vectorstores.chroma.Chroma object at 0x7fa013c9ad10> search_type='similarity' search_kwargs={'distance_metric': 'cos', 'fetch_k': 5, 'maximal_marginal_relevance': True, 'k': 5}\n"
     ]
    }
   ],
   "source": [
    "from modules.chatbot import Chatbot\n",
    "chatbot = Chatbot('gpt-4', 0.2)\n",
    "\n"
   ]
  },
  {
   "cell_type": "code",
   "execution_count": 8,
   "metadata": {},
   "outputs": [
    {
     "name": "stdout",
     "output_type": "stream",
     "text": [
      "Inputs: {'question': 'I am a registered nurse and I want to invoice for visiting a patient on saturday night, can you help?', 'chat_history': []}\n",
      "Count Inputs: 2\n",
      "Chroma Similarity search: [(Document(page_content='Saturday\\nDelivery of Health Supports by an Enrolled Nurse - $152.61 $213.65 $228.92\\n01_603_0114_1_1 Hour\\nSunday\\nDelivery of Health Supports by an Enrolled Nurse - $172.44 $241.42 $258.66\\n01_604_0114_1_1 Hour\\nPublic Holiday\\nDelivery of Health Supports by a Registered Nurse $115.21 $161.29 $172.82\\n01_606_0114_1_1 Hour\\n- Weekday Daytime\\nDelivery of Health Supports by a Registered Nurse $127.10 $177.94 $190.65\\n01_607_0114_1_1 Hour\\n- Weekday Evening\\nDelivery of Health Supports by a Registered Nurse $129.46 $181.24 $194.19\\n01_611_0114_1_1 Hour\\n- Weekday Night\\nDelivery of Health Supports by a Registered Nurse $164.42 $230.19 $246.63\\n01_608_0114_1_1 Hour\\n- Saturday\\nDelivery of Health Supports by a Registered Nurse $189.02 $264.63 $283.53\\n01_609_0114_1_1 Hour\\n- Sunday\\nDelivery of Health Supports by a Registered Nurse $213.62 $299.07 $320.43\\n01_610_0114_1_1 Hour\\n- Public Holiday\\nDelivery of Health Supports by a Clinical Nurse - $133.27 $186.58 $199.91\\n01_612_0114_1_1 Hour\\nWeekday Daytime', metadata={'source': '../../data/ndis/PB NDIS Pricing Arrangements and Price Limits 2023-24 .pdf', 'file_path': '../../data/ndis/PB NDIS Pricing Arrangements and Price Limits 2023-24 .pdf', 'page': 52, 'total_pages': 101, 'MSIP_Label_2b83f8d7-e91f-4eee-a336-52a8061c0503_Enabled': 'true', 'MSIP_Label_2b83f8d7-e91f-4eee-a336-52a8061c0503_SetDate': '2022-02-24T21:20:38Z', 'MSIP_Label_2b83f8d7-e91f-4eee-a336-52a8061c0503_Method': 'Privileged', 'MSIP_Label_2b83f8d7-e91f-4eee-a336-52a8061c0503_Name': 'OFFICIAL', 'MSIP_Label_2b83f8d7-e91f-4eee-a336-52a8061c0503_SiteId': 'cd778b65-752d-454a-87cf-b9990fe58993', 'MSIP_Label_2b83f8d7-e91f-4eee-a336-52a8061c0503_ActionId': 'a41679f1-751c-43a0-a310-7842fbe5f727', 'MSIP_Label_2b83f8d7-e91f-4eee-a336-52a8061c0503_ContentBits': '0', 'Title': 'NDIS Pricing Arrangements and Price Limits 2023-24', 'Author': 'Rundle, Vincent', 'Creator': 'Microsoft® Word for Microsoft 365', 'CreationDate': \"D:20230615172130+10'00'\", 'ModDate': \"D:20230615172130+10'00'\", 'Producer': 'Microsoft® Word for Microsoft 365'}), 0.3753112852573395), (Document(page_content='Saturday\\nDelivery of Health Supports by an Enrolled Nurse - $152.61 $213.65 $228.92\\n15_403_0114_1_3 Hour\\nSunday\\nDelivery of Health Supports by an Enrolled Nurse - $172.44 $241.42 $258.66\\n15_404_0114_1_3 Hour\\nPublic Holiday\\nDelivery of Health Supports by a Registered Nurse $115.21 $161.29 $172.82\\n15_406_0114_1_3 Hour\\n- Weekday Daytime\\nDelivery of Health Supports by a Registered Nurse $127.10 $177.94 $190.65\\n15_407_0114_1_3 Hour\\n- Weekday Evening\\nDelivery of Health Supports by a Registered Nurse $129.46 $181.24 $194.19\\n15_411_0114_1_3 Hour\\n- Weekday Night\\nDelivery of Health Supports by a Registered Nurse $164.42 $230.19 $246.63\\n15_408_0114_1_3 Hour\\n- Saturday\\nDelivery of Health Supports by a Registered Nurse $189.02 $264.63 $283.53\\n15_409_0114_1_3 Hour\\n- Sunday\\nDelivery of Health Supports by a Registered Nurse $213.62 $299.07 $320.43\\n15_410_0114_1_3 Hour\\n- Public Holiday\\nDelivery of Health Supports by a Clinical Nurse - $133.27 $186.58 $199.91\\n15_412_0114_1_3 Hour\\nWeekday Daytime', metadata={'source': '../../data/ndis/PB NDIS Pricing Arrangements and Price Limits 2023-24 .pdf', 'file_path': '../../data/ndis/PB NDIS Pricing Arrangements and Price Limits 2023-24 .pdf', 'page': 97, 'total_pages': 101, 'MSIP_Label_2b83f8d7-e91f-4eee-a336-52a8061c0503_Enabled': 'true', 'MSIP_Label_2b83f8d7-e91f-4eee-a336-52a8061c0503_SetDate': '2022-02-24T21:20:38Z', 'MSIP_Label_2b83f8d7-e91f-4eee-a336-52a8061c0503_Method': 'Privileged', 'MSIP_Label_2b83f8d7-e91f-4eee-a336-52a8061c0503_Name': 'OFFICIAL', 'MSIP_Label_2b83f8d7-e91f-4eee-a336-52a8061c0503_SiteId': 'cd778b65-752d-454a-87cf-b9990fe58993', 'MSIP_Label_2b83f8d7-e91f-4eee-a336-52a8061c0503_ActionId': 'a41679f1-751c-43a0-a310-7842fbe5f727', 'MSIP_Label_2b83f8d7-e91f-4eee-a336-52a8061c0503_ContentBits': '0', 'Title': 'NDIS Pricing Arrangements and Price Limits 2023-24', 'Author': 'Rundle, Vincent', 'Creator': 'Microsoft® Word for Microsoft 365', 'CreationDate': \"D:20230615172130+10'00'\", 'ModDate': \"D:20230615172130+10'00'\", 'Producer': 'Microsoft® Word for Microsoft 365'}), 0.37858298420906067), (Document(page_content='Consultant - Weekday Evening\\nDelivery of Health Supports by a Clinical Nurse $177.13 $247.98 $265.70\\n15_423_0114_1_3 Hour\\nConsultant - Weekday Night\\nDelivery of Health Supports by a Clinical Nurse $225.03 $315.04 $337.55\\n15_420_0114_1_3 Hour\\nConsultant - Saturday\\nDelivery of Health Supports by a Clinical Nurse $258.73 $362.22 $388.10\\n15_421_0114_1_3 Hour\\nConsultant - Sunday\\nDelivery of Health Supports by a Clinical Nurse $292.43 $409.40 $438.65\\n15_422_0114_1_3 Hour\\nConsultant - Public Holiday\\nDelivery of Health Supports by a Nurse Practitioner $164.78 $230.69 $247.17\\n15_424_0114_1_3 Hour\\n- Weekday Daytime\\nNDIS Pricing Arrangements and Price Limits 2023-24 Version 1.0 (published 16/06/2023) Page 97 of 101', metadata={'source': '../../data/ndis/PB NDIS Pricing Arrangements and Price Limits 2023-24 .pdf', 'file_path': '../../data/ndis/PB NDIS Pricing Arrangements and Price Limits 2023-24 .pdf', 'page': 97, 'total_pages': 101, 'MSIP_Label_2b83f8d7-e91f-4eee-a336-52a8061c0503_Enabled': 'true', 'MSIP_Label_2b83f8d7-e91f-4eee-a336-52a8061c0503_SetDate': '2022-02-24T21:20:38Z', 'MSIP_Label_2b83f8d7-e91f-4eee-a336-52a8061c0503_Method': 'Privileged', 'MSIP_Label_2b83f8d7-e91f-4eee-a336-52a8061c0503_Name': 'OFFICIAL', 'MSIP_Label_2b83f8d7-e91f-4eee-a336-52a8061c0503_SiteId': 'cd778b65-752d-454a-87cf-b9990fe58993', 'MSIP_Label_2b83f8d7-e91f-4eee-a336-52a8061c0503_ActionId': 'a41679f1-751c-43a0-a310-7842fbe5f727', 'MSIP_Label_2b83f8d7-e91f-4eee-a336-52a8061c0503_ContentBits': '0', 'Title': 'NDIS Pricing Arrangements and Price Limits 2023-24', 'Author': 'Rundle, Vincent', 'Creator': 'Microsoft® Word for Microsoft 365', 'CreationDate': \"D:20230615172130+10'00'\", 'ModDate': \"D:20230615172130+10'00'\", 'Producer': 'Microsoft® Word for Microsoft 365'}), 0.3832396864891052), (Document(page_content='Public Holiday, Saturday, Sunday or Night-time Sleepover Support).\\no For Nurses delivering Nursing Supports:\\n▪ A Weekday Daytime Support is any support to a participant that commences before\\n12.00 noon on a Weekday and finishes on the same day (unless it is a Public Holiday,\\nWeekday Evening, or Weekday Night Support).\\n▪ A Weekday Evening Support is any support to a participant that commences not\\nearlier than 12.00 noon on a Weekday and finishes after 6.00 pm on the same day\\n(unless it is a Public Holiday Support).\\n▪ A Weekday Night Support is any support to a participant that commences on or after\\n6.00 pm on a Weekday and finishes before 7.30 am on the following day (unless it is a\\nPublic Holiday Support).\\nIf a support to a participant does not meet one of the above criteria then it needs to be billed as two\\nor more separate supports. An exception to this general rule occurs when a particular support\\ncrosses a shift boundary and the same worker delivers the entire support. In this case, the higher', metadata={'source': '../../data/ndis/PB NDIS Pricing Arrangements and Price Limits 2023-24 .pdf', 'file_path': '../../data/ndis/PB NDIS Pricing Arrangements and Price Limits 2023-24 .pdf', 'page': 16, 'total_pages': 101, 'MSIP_Label_2b83f8d7-e91f-4eee-a336-52a8061c0503_Enabled': 'true', 'MSIP_Label_2b83f8d7-e91f-4eee-a336-52a8061c0503_SetDate': '2022-02-24T21:20:38Z', 'MSIP_Label_2b83f8d7-e91f-4eee-a336-52a8061c0503_Method': 'Privileged', 'MSIP_Label_2b83f8d7-e91f-4eee-a336-52a8061c0503_Name': 'OFFICIAL', 'MSIP_Label_2b83f8d7-e91f-4eee-a336-52a8061c0503_SiteId': 'cd778b65-752d-454a-87cf-b9990fe58993', 'MSIP_Label_2b83f8d7-e91f-4eee-a336-52a8061c0503_ActionId': 'a41679f1-751c-43a0-a310-7842fbe5f727', 'MSIP_Label_2b83f8d7-e91f-4eee-a336-52a8061c0503_ContentBits': '0', 'Title': 'NDIS Pricing Arrangements and Price Limits 2023-24', 'Author': 'Rundle, Vincent', 'Creator': 'Microsoft® Word for Microsoft 365', 'CreationDate': \"D:20230615172130+10'00'\", 'ModDate': \"D:20230615172130+10'00'\", 'Producer': 'Microsoft® Word for Microsoft 365'}), 0.3887465000152588), (Document(page_content='General Claiming Rules\\nNight-Time Sleepover supports\\nThis support provides a participant with assistance with, or supervision of, personal tasks of daily\\nlife where overnight support is needed, but the caregiver can sleep when not required to provide\\nsupport. This support applies to any day of the week and on public holidays. This support item\\nincludes up to two hours of active supports provided to the participant for the duration of the period.\\nProviders may claim for the third or additional hour at Saturday rates on weekdays, or at applicable\\nrates on other days (Saturday, Sunday or Public Holidays).\\nNote, there is no night-time sleepover support item for nurses.\\nClaiming for Telehealth Services\\nTelehealth can be used to deliver direct supports where appropriate and with the agreement of the\\nparticipant.\\nProviders can only claim Telehealth Services where the following conditions are met:\\n• The delivery of the support by telehealth is appropriate; and', metadata={'source': '../../data/ndis/PB NDIS Pricing Arrangements and Price Limits 2023-24 .pdf', 'file_path': '../../data/ndis/PB NDIS Pricing Arrangements and Price Limits 2023-24 .pdf', 'page': 17, 'total_pages': 101, 'MSIP_Label_2b83f8d7-e91f-4eee-a336-52a8061c0503_Enabled': 'true', 'MSIP_Label_2b83f8d7-e91f-4eee-a336-52a8061c0503_SetDate': '2022-02-24T21:20:38Z', 'MSIP_Label_2b83f8d7-e91f-4eee-a336-52a8061c0503_Method': 'Privileged', 'MSIP_Label_2b83f8d7-e91f-4eee-a336-52a8061c0503_Name': 'OFFICIAL', 'MSIP_Label_2b83f8d7-e91f-4eee-a336-52a8061c0503_SiteId': 'cd778b65-752d-454a-87cf-b9990fe58993', 'MSIP_Label_2b83f8d7-e91f-4eee-a336-52a8061c0503_ActionId': 'a41679f1-751c-43a0-a310-7842fbe5f727', 'MSIP_Label_2b83f8d7-e91f-4eee-a336-52a8061c0503_ContentBits': '0', 'Title': 'NDIS Pricing Arrangements and Price Limits 2023-24', 'Author': 'Rundle, Vincent', 'Creator': 'Microsoft® Word for Microsoft 365', 'CreationDate': \"D:20230615172130+10'00'\", 'ModDate': \"D:20230615172130+10'00'\", 'Producer': 'Microsoft® Word for Microsoft 365'}), 0.39990970492362976)]\n",
      "Inputs: {'input_documents': [Document(page_content='Saturday\\nDelivery of Health Supports by an Enrolled Nurse - $152.61 $213.65 $228.92\\n01_603_0114_1_1 Hour\\nSunday\\nDelivery of Health Supports by an Enrolled Nurse - $172.44 $241.42 $258.66\\n01_604_0114_1_1 Hour\\nPublic Holiday\\nDelivery of Health Supports by a Registered Nurse $115.21 $161.29 $172.82\\n01_606_0114_1_1 Hour\\n- Weekday Daytime\\nDelivery of Health Supports by a Registered Nurse $127.10 $177.94 $190.65\\n01_607_0114_1_1 Hour\\n- Weekday Evening\\nDelivery of Health Supports by a Registered Nurse $129.46 $181.24 $194.19\\n01_611_0114_1_1 Hour\\n- Weekday Night\\nDelivery of Health Supports by a Registered Nurse $164.42 $230.19 $246.63\\n01_608_0114_1_1 Hour\\n- Saturday\\nDelivery of Health Supports by a Registered Nurse $189.02 $264.63 $283.53\\n01_609_0114_1_1 Hour\\n- Sunday\\nDelivery of Health Supports by a Registered Nurse $213.62 $299.07 $320.43\\n01_610_0114_1_1 Hour\\n- Public Holiday\\nDelivery of Health Supports by a Clinical Nurse - $133.27 $186.58 $199.91\\n01_612_0114_1_1 Hour\\nWeekday Daytime', metadata={'source': '../../data/ndis/PB NDIS Pricing Arrangements and Price Limits 2023-24 .pdf', 'file_path': '../../data/ndis/PB NDIS Pricing Arrangements and Price Limits 2023-24 .pdf', 'page': 52, 'total_pages': 101, 'MSIP_Label_2b83f8d7-e91f-4eee-a336-52a8061c0503_Enabled': 'true', 'MSIP_Label_2b83f8d7-e91f-4eee-a336-52a8061c0503_SetDate': '2022-02-24T21:20:38Z', 'MSIP_Label_2b83f8d7-e91f-4eee-a336-52a8061c0503_Method': 'Privileged', 'MSIP_Label_2b83f8d7-e91f-4eee-a336-52a8061c0503_Name': 'OFFICIAL', 'MSIP_Label_2b83f8d7-e91f-4eee-a336-52a8061c0503_SiteId': 'cd778b65-752d-454a-87cf-b9990fe58993', 'MSIP_Label_2b83f8d7-e91f-4eee-a336-52a8061c0503_ActionId': 'a41679f1-751c-43a0-a310-7842fbe5f727', 'MSIP_Label_2b83f8d7-e91f-4eee-a336-52a8061c0503_ContentBits': '0', 'Title': 'NDIS Pricing Arrangements and Price Limits 2023-24', 'Author': 'Rundle, Vincent', 'Creator': 'Microsoft® Word for Microsoft 365', 'CreationDate': \"D:20230615172130+10'00'\", 'ModDate': \"D:20230615172130+10'00'\", 'Producer': 'Microsoft® Word for Microsoft 365'}), Document(page_content='Saturday\\nDelivery of Health Supports by an Enrolled Nurse - $152.61 $213.65 $228.92\\n15_403_0114_1_3 Hour\\nSunday\\nDelivery of Health Supports by an Enrolled Nurse - $172.44 $241.42 $258.66\\n15_404_0114_1_3 Hour\\nPublic Holiday\\nDelivery of Health Supports by a Registered Nurse $115.21 $161.29 $172.82\\n15_406_0114_1_3 Hour\\n- Weekday Daytime\\nDelivery of Health Supports by a Registered Nurse $127.10 $177.94 $190.65\\n15_407_0114_1_3 Hour\\n- Weekday Evening\\nDelivery of Health Supports by a Registered Nurse $129.46 $181.24 $194.19\\n15_411_0114_1_3 Hour\\n- Weekday Night\\nDelivery of Health Supports by a Registered Nurse $164.42 $230.19 $246.63\\n15_408_0114_1_3 Hour\\n- Saturday\\nDelivery of Health Supports by a Registered Nurse $189.02 $264.63 $283.53\\n15_409_0114_1_3 Hour\\n- Sunday\\nDelivery of Health Supports by a Registered Nurse $213.62 $299.07 $320.43\\n15_410_0114_1_3 Hour\\n- Public Holiday\\nDelivery of Health Supports by a Clinical Nurse - $133.27 $186.58 $199.91\\n15_412_0114_1_3 Hour\\nWeekday Daytime', metadata={'source': '../../data/ndis/PB NDIS Pricing Arrangements and Price Limits 2023-24 .pdf', 'file_path': '../../data/ndis/PB NDIS Pricing Arrangements and Price Limits 2023-24 .pdf', 'page': 97, 'total_pages': 101, 'MSIP_Label_2b83f8d7-e91f-4eee-a336-52a8061c0503_Enabled': 'true', 'MSIP_Label_2b83f8d7-e91f-4eee-a336-52a8061c0503_SetDate': '2022-02-24T21:20:38Z', 'MSIP_Label_2b83f8d7-e91f-4eee-a336-52a8061c0503_Method': 'Privileged', 'MSIP_Label_2b83f8d7-e91f-4eee-a336-52a8061c0503_Name': 'OFFICIAL', 'MSIP_Label_2b83f8d7-e91f-4eee-a336-52a8061c0503_SiteId': 'cd778b65-752d-454a-87cf-b9990fe58993', 'MSIP_Label_2b83f8d7-e91f-4eee-a336-52a8061c0503_ActionId': 'a41679f1-751c-43a0-a310-7842fbe5f727', 'MSIP_Label_2b83f8d7-e91f-4eee-a336-52a8061c0503_ContentBits': '0', 'Title': 'NDIS Pricing Arrangements and Price Limits 2023-24', 'Author': 'Rundle, Vincent', 'Creator': 'Microsoft® Word for Microsoft 365', 'CreationDate': \"D:20230615172130+10'00'\", 'ModDate': \"D:20230615172130+10'00'\", 'Producer': 'Microsoft® Word for Microsoft 365'}), Document(page_content='Consultant - Weekday Evening\\nDelivery of Health Supports by a Clinical Nurse $177.13 $247.98 $265.70\\n15_423_0114_1_3 Hour\\nConsultant - Weekday Night\\nDelivery of Health Supports by a Clinical Nurse $225.03 $315.04 $337.55\\n15_420_0114_1_3 Hour\\nConsultant - Saturday\\nDelivery of Health Supports by a Clinical Nurse $258.73 $362.22 $388.10\\n15_421_0114_1_3 Hour\\nConsultant - Sunday\\nDelivery of Health Supports by a Clinical Nurse $292.43 $409.40 $438.65\\n15_422_0114_1_3 Hour\\nConsultant - Public Holiday\\nDelivery of Health Supports by a Nurse Practitioner $164.78 $230.69 $247.17\\n15_424_0114_1_3 Hour\\n- Weekday Daytime\\nNDIS Pricing Arrangements and Price Limits 2023-24 Version 1.0 (published 16/06/2023) Page 97 of 101', metadata={'source': '../../data/ndis/PB NDIS Pricing Arrangements and Price Limits 2023-24 .pdf', 'file_path': '../../data/ndis/PB NDIS Pricing Arrangements and Price Limits 2023-24 .pdf', 'page': 97, 'total_pages': 101, 'MSIP_Label_2b83f8d7-e91f-4eee-a336-52a8061c0503_Enabled': 'true', 'MSIP_Label_2b83f8d7-e91f-4eee-a336-52a8061c0503_SetDate': '2022-02-24T21:20:38Z', 'MSIP_Label_2b83f8d7-e91f-4eee-a336-52a8061c0503_Method': 'Privileged', 'MSIP_Label_2b83f8d7-e91f-4eee-a336-52a8061c0503_Name': 'OFFICIAL', 'MSIP_Label_2b83f8d7-e91f-4eee-a336-52a8061c0503_SiteId': 'cd778b65-752d-454a-87cf-b9990fe58993', 'MSIP_Label_2b83f8d7-e91f-4eee-a336-52a8061c0503_ActionId': 'a41679f1-751c-43a0-a310-7842fbe5f727', 'MSIP_Label_2b83f8d7-e91f-4eee-a336-52a8061c0503_ContentBits': '0', 'Title': 'NDIS Pricing Arrangements and Price Limits 2023-24', 'Author': 'Rundle, Vincent', 'Creator': 'Microsoft® Word for Microsoft 365', 'CreationDate': \"D:20230615172130+10'00'\", 'ModDate': \"D:20230615172130+10'00'\", 'Producer': 'Microsoft® Word for Microsoft 365'}), Document(page_content='Public Holiday, Saturday, Sunday or Night-time Sleepover Support).\\no For Nurses delivering Nursing Supports:\\n▪ A Weekday Daytime Support is any support to a participant that commences before\\n12.00 noon on a Weekday and finishes on the same day (unless it is a Public Holiday,\\nWeekday Evening, or Weekday Night Support).\\n▪ A Weekday Evening Support is any support to a participant that commences not\\nearlier than 12.00 noon on a Weekday and finishes after 6.00 pm on the same day\\n(unless it is a Public Holiday Support).\\n▪ A Weekday Night Support is any support to a participant that commences on or after\\n6.00 pm on a Weekday and finishes before 7.30 am on the following day (unless it is a\\nPublic Holiday Support).\\nIf a support to a participant does not meet one of the above criteria then it needs to be billed as two\\nor more separate supports. An exception to this general rule occurs when a particular support\\ncrosses a shift boundary and the same worker delivers the entire support. In this case, the higher', metadata={'source': '../../data/ndis/PB NDIS Pricing Arrangements and Price Limits 2023-24 .pdf', 'file_path': '../../data/ndis/PB NDIS Pricing Arrangements and Price Limits 2023-24 .pdf', 'page': 16, 'total_pages': 101, 'MSIP_Label_2b83f8d7-e91f-4eee-a336-52a8061c0503_Enabled': 'true', 'MSIP_Label_2b83f8d7-e91f-4eee-a336-52a8061c0503_SetDate': '2022-02-24T21:20:38Z', 'MSIP_Label_2b83f8d7-e91f-4eee-a336-52a8061c0503_Method': 'Privileged', 'MSIP_Label_2b83f8d7-e91f-4eee-a336-52a8061c0503_Name': 'OFFICIAL', 'MSIP_Label_2b83f8d7-e91f-4eee-a336-52a8061c0503_SiteId': 'cd778b65-752d-454a-87cf-b9990fe58993', 'MSIP_Label_2b83f8d7-e91f-4eee-a336-52a8061c0503_ActionId': 'a41679f1-751c-43a0-a310-7842fbe5f727', 'MSIP_Label_2b83f8d7-e91f-4eee-a336-52a8061c0503_ContentBits': '0', 'Title': 'NDIS Pricing Arrangements and Price Limits 2023-24', 'Author': 'Rundle, Vincent', 'Creator': 'Microsoft® Word for Microsoft 365', 'CreationDate': \"D:20230615172130+10'00'\", 'ModDate': \"D:20230615172130+10'00'\", 'Producer': 'Microsoft® Word for Microsoft 365'}), Document(page_content='General Claiming Rules\\nNight-Time Sleepover supports\\nThis support provides a participant with assistance with, or supervision of, personal tasks of daily\\nlife where overnight support is needed, but the caregiver can sleep when not required to provide\\nsupport. This support applies to any day of the week and on public holidays. This support item\\nincludes up to two hours of active supports provided to the participant for the duration of the period.\\nProviders may claim for the third or additional hour at Saturday rates on weekdays, or at applicable\\nrates on other days (Saturday, Sunday or Public Holidays).\\nNote, there is no night-time sleepover support item for nurses.\\nClaiming for Telehealth Services\\nTelehealth can be used to deliver direct supports where appropriate and with the agreement of the\\nparticipant.\\nProviders can only claim Telehealth Services where the following conditions are met:\\n• The delivery of the support by telehealth is appropriate; and', metadata={'source': '../../data/ndis/PB NDIS Pricing Arrangements and Price Limits 2023-24 .pdf', 'file_path': '../../data/ndis/PB NDIS Pricing Arrangements and Price Limits 2023-24 .pdf', 'page': 17, 'total_pages': 101, 'MSIP_Label_2b83f8d7-e91f-4eee-a336-52a8061c0503_Enabled': 'true', 'MSIP_Label_2b83f8d7-e91f-4eee-a336-52a8061c0503_SetDate': '2022-02-24T21:20:38Z', 'MSIP_Label_2b83f8d7-e91f-4eee-a336-52a8061c0503_Method': 'Privileged', 'MSIP_Label_2b83f8d7-e91f-4eee-a336-52a8061c0503_Name': 'OFFICIAL', 'MSIP_Label_2b83f8d7-e91f-4eee-a336-52a8061c0503_SiteId': 'cd778b65-752d-454a-87cf-b9990fe58993', 'MSIP_Label_2b83f8d7-e91f-4eee-a336-52a8061c0503_ActionId': 'a41679f1-751c-43a0-a310-7842fbe5f727', 'MSIP_Label_2b83f8d7-e91f-4eee-a336-52a8061c0503_ContentBits': '0', 'Title': 'NDIS Pricing Arrangements and Price Limits 2023-24', 'Author': 'Rundle, Vincent', 'Creator': 'Microsoft® Word for Microsoft 365', 'CreationDate': \"D:20230615172130+10'00'\", 'ModDate': \"D:20230615172130+10'00'\", 'Producer': 'Microsoft® Word for Microsoft 365'})], 'question': 'I am a registered nurse and I want to invoice for visiting a patient on saturday night, can you help?', 'chat_history': ''}\n",
      "Count Inputs: 3\n",
      "\n",
      "\n",
      "\u001b[1m> Entering new StuffDocumentsChain chain...\u001b[0m\n",
      "Inputs: {'question': 'I am a registered nurse and I want to invoice for visiting a patient on saturday night, can you help?', 'context': 'Saturday\\nDelivery of Health Supports by an Enrolled Nurse - $152.61 $213.65 $228.92\\n01_603_0114_1_1 Hour\\nSunday\\nDelivery of Health Supports by an Enrolled Nurse - $172.44 $241.42 $258.66\\n01_604_0114_1_1 Hour\\nPublic Holiday\\nDelivery of Health Supports by a Registered Nurse $115.21 $161.29 $172.82\\n01_606_0114_1_1 Hour\\n- Weekday Daytime\\nDelivery of Health Supports by a Registered Nurse $127.10 $177.94 $190.65\\n01_607_0114_1_1 Hour\\n- Weekday Evening\\nDelivery of Health Supports by a Registered Nurse $129.46 $181.24 $194.19\\n01_611_0114_1_1 Hour\\n- Weekday Night\\nDelivery of Health Supports by a Registered Nurse $164.42 $230.19 $246.63\\n01_608_0114_1_1 Hour\\n- Saturday\\nDelivery of Health Supports by a Registered Nurse $189.02 $264.63 $283.53\\n01_609_0114_1_1 Hour\\n- Sunday\\nDelivery of Health Supports by a Registered Nurse $213.62 $299.07 $320.43\\n01_610_0114_1_1 Hour\\n- Public Holiday\\nDelivery of Health Supports by a Clinical Nurse - $133.27 $186.58 $199.91\\n01_612_0114_1_1 Hour\\nWeekday Daytime\\n\\nSaturday\\nDelivery of Health Supports by an Enrolled Nurse - $152.61 $213.65 $228.92\\n15_403_0114_1_3 Hour\\nSunday\\nDelivery of Health Supports by an Enrolled Nurse - $172.44 $241.42 $258.66\\n15_404_0114_1_3 Hour\\nPublic Holiday\\nDelivery of Health Supports by a Registered Nurse $115.21 $161.29 $172.82\\n15_406_0114_1_3 Hour\\n- Weekday Daytime\\nDelivery of Health Supports by a Registered Nurse $127.10 $177.94 $190.65\\n15_407_0114_1_3 Hour\\n- Weekday Evening\\nDelivery of Health Supports by a Registered Nurse $129.46 $181.24 $194.19\\n15_411_0114_1_3 Hour\\n- Weekday Night\\nDelivery of Health Supports by a Registered Nurse $164.42 $230.19 $246.63\\n15_408_0114_1_3 Hour\\n- Saturday\\nDelivery of Health Supports by a Registered Nurse $189.02 $264.63 $283.53\\n15_409_0114_1_3 Hour\\n- Sunday\\nDelivery of Health Supports by a Registered Nurse $213.62 $299.07 $320.43\\n15_410_0114_1_3 Hour\\n- Public Holiday\\nDelivery of Health Supports by a Clinical Nurse - $133.27 $186.58 $199.91\\n15_412_0114_1_3 Hour\\nWeekday Daytime\\n\\nConsultant - Weekday Evening\\nDelivery of Health Supports by a Clinical Nurse $177.13 $247.98 $265.70\\n15_423_0114_1_3 Hour\\nConsultant - Weekday Night\\nDelivery of Health Supports by a Clinical Nurse $225.03 $315.04 $337.55\\n15_420_0114_1_3 Hour\\nConsultant - Saturday\\nDelivery of Health Supports by a Clinical Nurse $258.73 $362.22 $388.10\\n15_421_0114_1_3 Hour\\nConsultant - Sunday\\nDelivery of Health Supports by a Clinical Nurse $292.43 $409.40 $438.65\\n15_422_0114_1_3 Hour\\nConsultant - Public Holiday\\nDelivery of Health Supports by a Nurse Practitioner $164.78 $230.69 $247.17\\n15_424_0114_1_3 Hour\\n- Weekday Daytime\\nNDIS Pricing Arrangements and Price Limits 2023-24 Version 1.0 (published 16/06/2023) Page 97 of 101\\n\\nPublic Holiday, Saturday, Sunday or Night-time Sleepover Support).\\no For Nurses delivering Nursing Supports:\\n▪ A Weekday Daytime Support is any support to a participant that commences before\\n12.00 noon on a Weekday and finishes on the same day (unless it is a Public Holiday,\\nWeekday Evening, or Weekday Night Support).\\n▪ A Weekday Evening Support is any support to a participant that commences not\\nearlier than 12.00 noon on a Weekday and finishes after 6.00 pm on the same day\\n(unless it is a Public Holiday Support).\\n▪ A Weekday Night Support is any support to a participant that commences on or after\\n6.00 pm on a Weekday and finishes before 7.30 am on the following day (unless it is a\\nPublic Holiday Support).\\nIf a support to a participant does not meet one of the above criteria then it needs to be billed as two\\nor more separate supports. An exception to this general rule occurs when a particular support\\ncrosses a shift boundary and the same worker delivers the entire support. In this case, the higher\\n\\nGeneral Claiming Rules\\nNight-Time Sleepover supports\\nThis support provides a participant with assistance with, or supervision of, personal tasks of daily\\nlife where overnight support is needed, but the caregiver can sleep when not required to provide\\nsupport. This support applies to any day of the week and on public holidays. This support item\\nincludes up to two hours of active supports provided to the participant for the duration of the period.\\nProviders may claim for the third or additional hour at Saturday rates on weekdays, or at applicable\\nrates on other days (Saturday, Sunday or Public Holidays).\\nNote, there is no night-time sleepover support item for nurses.\\nClaiming for Telehealth Services\\nTelehealth can be used to deliver direct supports where appropriate and with the agreement of the\\nparticipant.\\nProviders can only claim Telehealth Services where the following conditions are met:\\n• The delivery of the support by telehealth is appropriate; and'}\n",
      "Count Inputs: 2\n",
      "\n",
      "\n",
      "\u001b[1m> Entering new LLMChain chain...\u001b[0m\n",
      "Prompt after formatting:\n",
      "\u001b[32;1m\u001b[1;3m\n",
      "You are a helpful, polite and well-mannered bot, that answer questions from providers on how to invoice their services to the NDIS. \n",
      "You are provided with a context that contains relevant extract from the NDIS documentation.\n",
      "Upon receiving the user question and context, your aim is to:\n",
      "    - select for them the approriate item code from the price guide\n",
      "    - determine the maximum price they can charge for the good or service according to their location\n",
      "    - more generally, by advising them following recommendations set up in the price guide for that particular service if any\n",
      "    \n",
      "When replying, you will follow ALL of the rules below:\n",
      "\n",
      "1/ If some information is missing to determine what item code to use, please ask that information to the user\n",
      "2/ If there is more than one item code matching the given criteria, determine what makes the difference between one item code and another and ask that question to the user\n",
      "3/ If you otherwise don't have enough information to answer the user query, don't invent anything and say you don't know. Do NOT try to make up an answer.\n",
      "Use as much detail as possible when responding.\n",
      "\n",
      "context: Saturday\n",
      "Delivery of Health Supports by an Enrolled Nurse - $152.61 $213.65 $228.92\n",
      "01_603_0114_1_1 Hour\n",
      "Sunday\n",
      "Delivery of Health Supports by an Enrolled Nurse - $172.44 $241.42 $258.66\n",
      "01_604_0114_1_1 Hour\n",
      "Public Holiday\n",
      "Delivery of Health Supports by a Registered Nurse $115.21 $161.29 $172.82\n",
      "01_606_0114_1_1 Hour\n",
      "- Weekday Daytime\n",
      "Delivery of Health Supports by a Registered Nurse $127.10 $177.94 $190.65\n",
      "01_607_0114_1_1 Hour\n",
      "- Weekday Evening\n",
      "Delivery of Health Supports by a Registered Nurse $129.46 $181.24 $194.19\n",
      "01_611_0114_1_1 Hour\n",
      "- Weekday Night\n",
      "Delivery of Health Supports by a Registered Nurse $164.42 $230.19 $246.63\n",
      "01_608_0114_1_1 Hour\n",
      "- Saturday\n",
      "Delivery of Health Supports by a Registered Nurse $189.02 $264.63 $283.53\n",
      "01_609_0114_1_1 Hour\n",
      "- Sunday\n",
      "Delivery of Health Supports by a Registered Nurse $213.62 $299.07 $320.43\n",
      "01_610_0114_1_1 Hour\n",
      "- Public Holiday\n",
      "Delivery of Health Supports by a Clinical Nurse - $133.27 $186.58 $199.91\n",
      "01_612_0114_1_1 Hour\n",
      "Weekday Daytime\n",
      "\n",
      "Saturday\n",
      "Delivery of Health Supports by an Enrolled Nurse - $152.61 $213.65 $228.92\n",
      "15_403_0114_1_3 Hour\n",
      "Sunday\n",
      "Delivery of Health Supports by an Enrolled Nurse - $172.44 $241.42 $258.66\n",
      "15_404_0114_1_3 Hour\n",
      "Public Holiday\n",
      "Delivery of Health Supports by a Registered Nurse $115.21 $161.29 $172.82\n",
      "15_406_0114_1_3 Hour\n",
      "- Weekday Daytime\n",
      "Delivery of Health Supports by a Registered Nurse $127.10 $177.94 $190.65\n",
      "15_407_0114_1_3 Hour\n",
      "- Weekday Evening\n",
      "Delivery of Health Supports by a Registered Nurse $129.46 $181.24 $194.19\n",
      "15_411_0114_1_3 Hour\n",
      "- Weekday Night\n",
      "Delivery of Health Supports by a Registered Nurse $164.42 $230.19 $246.63\n",
      "15_408_0114_1_3 Hour\n",
      "- Saturday\n",
      "Delivery of Health Supports by a Registered Nurse $189.02 $264.63 $283.53\n",
      "15_409_0114_1_3 Hour\n",
      "- Sunday\n",
      "Delivery of Health Supports by a Registered Nurse $213.62 $299.07 $320.43\n",
      "15_410_0114_1_3 Hour\n",
      "- Public Holiday\n",
      "Delivery of Health Supports by a Clinical Nurse - $133.27 $186.58 $199.91\n",
      "15_412_0114_1_3 Hour\n",
      "Weekday Daytime\n",
      "\n",
      "Consultant - Weekday Evening\n",
      "Delivery of Health Supports by a Clinical Nurse $177.13 $247.98 $265.70\n",
      "15_423_0114_1_3 Hour\n",
      "Consultant - Weekday Night\n",
      "Delivery of Health Supports by a Clinical Nurse $225.03 $315.04 $337.55\n",
      "15_420_0114_1_3 Hour\n",
      "Consultant - Saturday\n",
      "Delivery of Health Supports by a Clinical Nurse $258.73 $362.22 $388.10\n",
      "15_421_0114_1_3 Hour\n",
      "Consultant - Sunday\n",
      "Delivery of Health Supports by a Clinical Nurse $292.43 $409.40 $438.65\n",
      "15_422_0114_1_3 Hour\n",
      "Consultant - Public Holiday\n",
      "Delivery of Health Supports by a Nurse Practitioner $164.78 $230.69 $247.17\n",
      "15_424_0114_1_3 Hour\n",
      "- Weekday Daytime\n",
      "NDIS Pricing Arrangements and Price Limits 2023-24 Version 1.0 (published 16/06/2023) Page 97 of 101\n",
      "\n",
      "Public Holiday, Saturday, Sunday or Night-time Sleepover Support).\n",
      "o For Nurses delivering Nursing Supports:\n",
      "▪ A Weekday Daytime Support is any support to a participant that commences before\n",
      "12.00 noon on a Weekday and finishes on the same day (unless it is a Public Holiday,\n",
      "Weekday Evening, or Weekday Night Support).\n",
      "▪ A Weekday Evening Support is any support to a participant that commences not\n",
      "earlier than 12.00 noon on a Weekday and finishes after 6.00 pm on the same day\n",
      "(unless it is a Public Holiday Support).\n",
      "▪ A Weekday Night Support is any support to a participant that commences on or after\n",
      "6.00 pm on a Weekday and finishes before 7.30 am on the following day (unless it is a\n",
      "Public Holiday Support).\n",
      "If a support to a participant does not meet one of the above criteria then it needs to be billed as two\n",
      "or more separate supports. An exception to this general rule occurs when a particular support\n",
      "crosses a shift boundary and the same worker delivers the entire support. In this case, the higher\n",
      "\n",
      "General Claiming Rules\n",
      "Night-Time Sleepover supports\n",
      "This support provides a participant with assistance with, or supervision of, personal tasks of daily\n",
      "life where overnight support is needed, but the caregiver can sleep when not required to provide\n",
      "support. This support applies to any day of the week and on public holidays. This support item\n",
      "includes up to two hours of active supports provided to the participant for the duration of the period.\n",
      "Providers may claim for the third or additional hour at Saturday rates on weekdays, or at applicable\n",
      "rates on other days (Saturday, Sunday or Public Holidays).\n",
      "Note, there is no night-time sleepover support item for nurses.\n",
      "Claiming for Telehealth Services\n",
      "Telehealth can be used to deliver direct supports where appropriate and with the agreement of the\n",
      "participant.\n",
      "Providers can only claim Telehealth Services where the following conditions are met:\n",
      "• The delivery of the support by telehealth is appropriate; and\n",
      "=========\n",
      "question: I am a registered nurse and I want to invoice for visiting a patient on saturday night, can you help?\n",
      "======\n",
      "        \u001b[0m\n",
      "\n",
      "\u001b[1m> Finished chain.\u001b[0m\n",
      "\n",
      "\u001b[1m> Finished chain.\u001b[0m\n"
     ]
    },
    {
     "data": {
      "text/plain": [
       "'Sure, I can assist you with that. As a Registered Nurse providing health supports on a Saturday night, you have two item codes to choose from based on the NDIS price guide:\\n\\n1. Item code 01_609_0114_1_1 with a maximum price of $189.02, $264.63, or $283.53 depending on the location.\\n2. Item code 15_409_0114_1_3 with a maximum price of $189.02, $264.63, or $283.53 depending on the location.\\n\\nThe difference between these two item codes is not specified in the provided context. You may need to refer to the full NDIS price guide or contact the NDIS for clarification on which item code is most appropriate for your service.'"
      ]
     },
     "execution_count": 8,
     "metadata": {},
     "output_type": "execute_result"
    }
   ],
   "source": [
    "chatbot.conversational_chat('I am a registered nurse and I want to invoice for visiting a patient on saturday night, can you help?')"
   ]
  },
  {
   "cell_type": "code",
   "execution_count": 7,
   "metadata": {},
   "outputs": [
    {
     "name": "stdout",
     "output_type": "stream",
     "text": [
      "Chroma collection name: NDIS_ALL_PDFPLUMBER_TEXTS_1024_128\n"
     ]
    }
   ],
   "source": [
    "from modules.retriever import ChromaRetriever\n",
    "blob = ChromaRetriever().fromExistingCollection(collection_name = 'NDIS_ALL_PDFPLUMBER_TEXTS_1024_128')"
   ]
  },
  {
   "cell_type": "code",
   "execution_count": 11,
   "metadata": {},
   "outputs": [],
   "source": [
    "from langchain.vectorstores import Chroma\n",
    "from langchain.embeddings import OpenAIEmbeddings\n",
    "from chromadb.config import Settings\n",
    "from chromadb import Client\n",
    "from chromadb.api import API\n",
    "\n",
    "localhost_client_settings = Settings(\n",
    "    chroma_api_impl=\"rest\",\n",
    "    chroma_server_host=\"host.docker.internal\",  # when you run this inside a devcontainer you need to explicitely say host.docker.internal to signify \"devcontainer host localhost\"\n",
    "    chroma_server_http_port=\"8000\"\n",
    ")\n",
    "\n",
    "client_settings: Settings = localhost_client_settings\n",
    "client = Client(client_settings)"
   ]
  },
  {
   "cell_type": "code",
   "execution_count": 12,
   "metadata": {},
   "outputs": [],
   "source": [
    "\n",
    "from chromadb.config import Settings\n",
    "from chromadb import Client\n",
    "from chromadb.api import API\n",
    "\n",
    "class ChromaRetriever:\n",
    "    COLLECTION_NAME = 'NDIS_ALL_PDFPLUMBER_TEXTS_1024_128'\n",
    "    \n",
    "    def __init__(self,  client_settings=None):\n",
    "\n",
    "        localhost_client_settings = Settings(\n",
    "            chroma_api_impl=\"rest\",\n",
    "            chroma_server_host=\"host.docker.internal\",  # when you run this inside a devcontainer you need to explicitely say host.docker.internal to signify \"devcontainer host localhost\"\n",
    "            chroma_server_http_port=\"8000\"\n",
    "        )\n",
    "\n",
    "        client_settings: Settings = localhost_client_settings\n",
    "        client = Client(client_settings)\n",
    "\n",
    "blob = ChromaRetriever()"
   ]
  }
 ],
 "metadata": {
  "kernelspec": {
   "display_name": ".venv",
   "language": "python",
   "name": "python3"
  },
  "language_info": {
   "codemirror_mode": {
    "name": "ipython",
    "version": 3
   },
   "file_extension": ".py",
   "mimetype": "text/x-python",
   "name": "python",
   "nbconvert_exporter": "python",
   "pygments_lexer": "ipython3",
   "version": "3.10.12"
  },
  "orig_nbformat": 4
 },
 "nbformat": 4,
 "nbformat_minor": 2
}
