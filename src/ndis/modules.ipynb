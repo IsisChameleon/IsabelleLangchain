{
 "cells": [
  {
   "cell_type": "code",
   "execution_count": 1,
   "metadata": {},
   "outputs": [],
   "source": [
    "from modules.chatbot import Chatbot\n",
    "\n"
   ]
  },
  {
   "cell_type": "code",
   "execution_count": 2,
   "metadata": {},
   "outputs": [],
   "source": [
    "chatbot = Chatbot('gpt-4', 0.2)"
   ]
  },
  {
   "cell_type": "code",
   "execution_count": 4,
   "metadata": {},
   "outputs": [],
   "source": [
    "from langchain.vectorstores import Chroma\n",
    "from langchain.embeddings import OpenAIEmbeddings\n",
    "from chromadb.config import Settings\n",
    "from chromadb import Client\n",
    "from chromadb.api import API\n",
    "\n",
    "localhost_client_settings = Settings(\n",
    "    chroma_api_impl=\"rest\",\n",
    "    chroma_server_host=\"host.docker.internal\",  # when you run this inside a devcontainer you need to explicitely say host.docker.internal to signify \"devcontainer host localhost\"\n",
    "    chroma_server_http_port=\"8000\"\n",
    ")\n",
    "\n",
    "client_settings: Settings = localhost_client_settings\n",
    "client = Client(client_settings)"
   ]
  }
 ],
 "metadata": {
  "kernelspec": {
   "display_name": ".venv",
   "language": "python",
   "name": "python3"
  },
  "language_info": {
   "codemirror_mode": {
    "name": "ipython",
    "version": 3
   },
   "file_extension": ".py",
   "mimetype": "text/x-python",
   "name": "python",
   "nbconvert_exporter": "python",
   "pygments_lexer": "ipython3",
   "version": "3.10.12"
  },
  "orig_nbformat": 4
 },
 "nbformat": 4,
 "nbformat_minor": 2
}
